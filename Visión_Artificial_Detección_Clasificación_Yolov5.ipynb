{
  "nbformat": 4,
  "nbformat_minor": 0,
  "metadata": {
    "colab": {
      "provenance": [],
      "mount_file_id": "1RrCFJnYjE3NIwU_qQxrKa-7OQTNgmgxj",
      "authorship_tag": "ABX9TyPqqC2iG5tAqeDvGDQb0zpJ",
      "include_colab_link": true
    },
    "kernelspec": {
      "name": "python3",
      "display_name": "Python 3"
    },
    "language_info": {
      "name": "python"
    }
  },
  "cells": [
    {
      "cell_type": "markdown",
      "metadata": {
        "id": "view-in-github",
        "colab_type": "text"
      },
      "source": [
        "<a href=\"https://colab.research.google.com/github/LuisCarlosJaramillo/Vision_Artificial_Deteccion_Clasificacion_Yolov5/blob/main/Visi%C3%B3n_Artificial_Detecci%C3%B3n_Clasificaci%C3%B3n_Yolov5.ipynb\" target=\"_parent\"><img src=\"https://colab.research.google.com/assets/colab-badge.svg\" alt=\"Open In Colab\"/></a>"
      ]
    },
    {
      "cell_type": "code",
      "source": [
        "!pip install opencv-python-headless\n",
        "!pip install yolov5"
      ],
      "metadata": {
        "id": "zzBJJLHopsjD"
      },
      "execution_count": null,
      "outputs": []
    },
    {
      "cell_type": "code",
      "source": [
        "import torch\n",
        "import cv2\n",
        "from google.colab.patches import cv2_imshow"
      ],
      "metadata": {
        "id": "J9FWB8l1pr0U"
      },
      "execution_count": 2,
      "outputs": []
    },
    {
      "cell_type": "code",
      "source": [
        "# Descargar el modelo YOLOv5 pre-entrenado\n",
        "model = torch.hub.load('ultralytics/yolov5', 'yolov5s')\n",
        "\n",
        "# Asignar etiquetas en español\n",
        "labels_es = {\n",
        "    'person': 'persona',\n",
        "    'cat': 'gato',\n",
        "    'dog': 'perro',\n",
        "    'car': 'auto',\n",
        "    # Añadir más etiquetas si es necesario\n",
        "}"
      ],
      "metadata": {
        "id": "ukqWnxGnqAoX"
      },
      "execution_count": null,
      "outputs": []
    },
    {
      "cell_type": "code",
      "execution_count": 4,
      "metadata": {
        "colab": {
          "base_uri": "https://localhost:8080/",
          "height": 17
        },
        "id": "vUFDvr0hogw0",
        "outputId": "380e7d9e-c057-459f-cadd-bd3f6734d393"
      },
      "outputs": [
        {
          "output_type": "display_data",
          "data": {
            "text/plain": [
              "<IPython.core.display.Javascript object>"
            ],
            "application/javascript": [
              "\n",
              "    async function download(id, filename, size) {\n",
              "      if (!google.colab.kernel.accessAllowed) {\n",
              "        return;\n",
              "      }\n",
              "      const div = document.createElement('div');\n",
              "      const label = document.createElement('label');\n",
              "      label.textContent = `Downloading \"${filename}\": `;\n",
              "      div.appendChild(label);\n",
              "      const progress = document.createElement('progress');\n",
              "      progress.max = size;\n",
              "      div.appendChild(progress);\n",
              "      document.body.appendChild(div);\n",
              "\n",
              "      const buffers = [];\n",
              "      let downloaded = 0;\n",
              "\n",
              "      const channel = await google.colab.kernel.comms.open(id);\n",
              "      // Send a message to notify the kernel that we're ready.\n",
              "      channel.send({})\n",
              "\n",
              "      for await (const message of channel.messages) {\n",
              "        // Send a message to notify the kernel that we're ready.\n",
              "        channel.send({})\n",
              "        if (message.buffers) {\n",
              "          for (const buffer of message.buffers) {\n",
              "            buffers.push(buffer);\n",
              "            downloaded += buffer.byteLength;\n",
              "            progress.value = downloaded;\n",
              "          }\n",
              "        }\n",
              "      }\n",
              "      const blob = new Blob(buffers, {type: 'application/binary'});\n",
              "      const a = document.createElement('a');\n",
              "      a.href = window.URL.createObjectURL(blob);\n",
              "      a.download = filename;\n",
              "      div.appendChild(a);\n",
              "      a.click();\n",
              "      div.remove();\n",
              "    }\n",
              "  "
            ]
          },
          "metadata": {}
        },
        {
          "output_type": "display_data",
          "data": {
            "text/plain": [
              "<IPython.core.display.Javascript object>"
            ],
            "application/javascript": [
              "download(\"download_b5fd8ded-8d60-4244-827f-dbb3e9c06879\", \"output.mp4\", 34739451)"
            ]
          },
          "metadata": {}
        }
      ],
      "source": [
        "# Cargar el video\n",
        "cap = cv2.VideoCapture('/content/drive/MyDrive/Entrenamientos_Vision_Artificial/video_entrenamiento_vision_artificial.mp4')\n",
        "\n",
        "# Verificar si el video se cargó correctamente\n",
        "if not cap.isOpened():\n",
        "    print(\"Error: No se pudo abrir el video.\")\n",
        "    exit()\n",
        "\n",
        "# Configurar el codec y crear un objeto VideoWriter para guardar el video\n",
        "fourcc = cv2.VideoWriter_fourcc(*'mp4v')\n",
        "out = cv2.VideoWriter('output.mp4', fourcc, 20.0, (int(cap.get(3)), int(cap.get(4))))\n",
        "\n",
        "# Diccionario para contar las detecciones\n",
        "detections_count = {\n",
        "    'persona': 0,\n",
        "    'gato': 0,\n",
        "    'perro': 0,\n",
        "    'auto': 0,\n",
        "    'otros': 0\n",
        "}\n",
        "\n",
        "# Loop principal para procesar el video\n",
        "while True:\n",
        "    ret, frame = cap.read()\n",
        "\n",
        "    if not ret:\n",
        "        break  # Salir si no hay más frames\n",
        "\n",
        "    # Convertir el frame a RGB para YOLO\n",
        "    frame_rgb = cv2.cvtColor(frame, cv2.COLOR_BGR2RGB)\n",
        "\n",
        "    # Detección usando YOLOv5\n",
        "    results = model(frame_rgb)\n",
        "\n",
        "    # Reiniciar el conteo en cada frame\n",
        "    detections_count = {key: 0 for key in detections_count}\n",
        "\n",
        "    # Procesar los resultados\n",
        "    for result in results.xyxy[0]:\n",
        "        # Extraer la información de cada objeto detectado\n",
        "        x1, y1, x2, y2, conf, cls = result\n",
        "\n",
        "        # Convertir a entero los valores de coordenadas\n",
        "        x1, y1, x2, y2 = int(x1), int(y1), int(x2), int(y2)\n",
        "\n",
        "        # Obtener la etiqueta en inglés y en español\n",
        "        label_eng = model.names[int(cls)]\n",
        "        label_es = labels_es.get(label_eng, 'otros')  # Usar 'otros' si no está en el diccionario\n",
        "\n",
        "        # Incrementar el conteo de la etiqueta correspondiente\n",
        "        if label_es in detections_count:\n",
        "            detections_count[label_es] += 1\n",
        "        else:\n",
        "            detections_count['otros'] += 1\n",
        "\n",
        "        # Asignar un color diferente para cada clase\n",
        "        if label_es == 'persona':\n",
        "            color = (0, 255, 0)  # Verde para personas\n",
        "        elif label_es in ['gato', 'perro']:\n",
        "            color = (255, 0, 0)  # Azul para animales\n",
        "        else:\n",
        "            color = (0, 0, 255)  # Rojo para otros objetos\n",
        "\n",
        "        # Dibujar el rectángulo\n",
        "        cv2.rectangle(frame, (x1, y1), (x2, y2), color, 2)\n",
        "\n",
        "        # Poner la etiqueta\n",
        "        cv2.putText(frame, label_es, (x1, y1 - 10), cv2.FONT_HERSHEY_SIMPLEX, 0.9, color, 2)\n",
        "\n",
        "    # Crear un tablero de conteo\n",
        "    y0, dy = 50, 30\n",
        "    for i, (key, value) in enumerate(detections_count.items()):\n",
        "        text = f'{key}: {value}'\n",
        "        cv2.putText(frame, text, (10, y0 + i * dy), cv2.FONT_HERSHEY_SIMPLEX, 1, (255, 255, 255), 2, cv2.LINE_AA)\n",
        "\n",
        "    # Escribir el frame procesado en el archivo de video\n",
        "    out.write(frame)\n",
        "\n",
        "# Liberar el video y cerrar los recursos\n",
        "cap.release()\n",
        "out.release()\n",
        "cv2.destroyAllWindows()\n",
        "\n",
        "# Descargar el video procesado\n",
        "from google.colab import files\n",
        "files.download('output.mp4')"
      ]
    }
  ]
}